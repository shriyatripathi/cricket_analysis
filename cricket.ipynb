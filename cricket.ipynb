{
 "cells": [
  {
   "cell_type": "code",
   "execution_count": 9,
   "id": "500c0436",
   "metadata": {},
   "outputs": [
    {
     "name": "stderr",
     "output_type": "stream",
     "text": [
      "Downloading: \"https://github.com/ultralytics/yolov5/zipball/master\" to C:\\Users\\Shriya/.cache\\torch\\hub\\master.zip\n",
      "YOLOv5  2023-7-23 Python-3.10.9 torch-2.0.1+cpu CPU\n",
      "\n",
      "Fusing layers... \n",
      "YOLOv5s summary: 157 layers, 7055974 parameters, 0 gradients, 15.9 GFLOPs\n",
      "Adding AutoShape... \n"
     ]
    }
   ],
   "source": [
    "import cv2\n",
    "import numpy as np\n",
    "import torch\n",
    "\n",
    "# Load the object detection model (YOLOv5 or any other suitable model)\n",
    "model = torch.hub.load('ultralytics/yolov5', 'custom', path=r\"C:\\Users\\Shriya\\OneDrive\\Desktop\\object_detect\\yolov5\\runs\\train\\exp20\\weights\\last.pt\", force_reload=True)\n",
    "\n",
    "# Load video\n",
    "video_path = r\"C:\\Users\\Shriya\\Downloads\\How Virat Kohli plays spin at nets I Indian Cricket Team.mp4\"\n",
    "cap = cv2.VideoCapture(video_path)\n",
    "\n",
    "# Output folder to save frames\n",
    "output_folder = r\"C:\\Users\\Shriya\\OneDrive\\Desktop\\internn\\New folder\"\n",
    "frame_count = 0\n",
    "\n",
    "# Loop through each frame of the video\n",
    "while True:\n",
    "    ret, frame = cap.read()\n",
    "    if not ret:\n",
    "        break\n",
    "\n",
    "    # Perform object detection to get the bounding boxes and class labels\n",
    "    results = model(frame)\n",
    "\n",
    "    # Extract the bounding boxes and class labels from the results\n",
    "    bboxes = results.pred[0][:, :4].cpu().numpy()  # Extract bounding boxes (x1, y1, x2, y2)\n",
    "    class_labels = results.pred[0][:, -1].cpu().numpy().astype(int)  # Extract class labels\n",
    "\n",
    "    # Find the indices of objects that belong to the class representing 'ball touching bat'\n",
    "    ball_touching_bat_indices = np.where(class_labels == 0)[0]  # Replace '0' with the correct class label index\n",
    "\n",
    "    # Print the object detection results for debugging\n",
    "    for idx in ball_touching_bat_indices:\n",
    "        bbox = bboxes[idx]\n",
    "        x1, y1, x2, y2 = bbox\n",
    "        class_label = class_labels[idx]\n",
    "        print(f\"Detected 'ball touching bat' with coordinates: {bbox} and class label: {class_label}\")\n",
    "\n",
    "    # Iterate through the detected 'ball touching bat' objects\n",
    "    for idx in ball_touching_bat_indices:\n",
    "        bbox = bboxes[idx]\n",
    "        x1, y1, x2, y2 = bbox\n",
    "\n",
    "        # Save the frame\n",
    "        frame_count += 1\n",
    "        frame_path = f\"{output_folder}/frame_{frame_count}.jpg\"\n",
    "        cv2.imwrite(frame_path, frame)  # Save the frame\n",
    "\n",
    "cap.release()\n"
   ]
  },
  {
   "cell_type": "code",
   "execution_count": 3,
   "id": "c854fe52",
   "metadata": {},
   "outputs": [
    {
     "name": "stdout",
     "output_type": "stream",
     "text": [
      "Requirement already satisfied: shapely in c:\\users\\shriya\\anaconda3\\lib\\site-packages (2.0.1)\n",
      "Requirement already satisfied: numpy>=1.14 in c:\\users\\shriya\\anaconda3\\lib\\site-packages (from shapely) (1.23.5)\n"
     ]
    },
    {
     "name": "stderr",
     "output_type": "stream",
     "text": [
      "\n",
      "[notice] A new release of pip is available: 23.1.2 -> 23.2.1\n",
      "[notice] To update, run: python.exe -m pip install --upgrade pip\n"
     ]
    }
   ],
   "source": [
    "!pip install shapely\n"
   ]
  },
  {
   "cell_type": "code",
   "execution_count": null,
   "id": "7dcbdf58",
   "metadata": {},
   "outputs": [],
   "source": []
  }
 ],
 "metadata": {
  "kernelspec": {
   "display_name": "Python 3 (ipykernel)",
   "language": "python",
   "name": "python3"
  },
  "language_info": {
   "codemirror_mode": {
    "name": "ipython",
    "version": 3
   },
   "file_extension": ".py",
   "mimetype": "text/x-python",
   "name": "python",
   "nbconvert_exporter": "python",
   "pygments_lexer": "ipython3",
   "version": "3.10.9"
  }
 },
 "nbformat": 4,
 "nbformat_minor": 5
}
